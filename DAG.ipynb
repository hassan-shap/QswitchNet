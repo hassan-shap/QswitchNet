{
 "cells": [
  {
   "cell_type": "code",
   "execution_count": 2,
   "metadata": {},
   "outputs": [],
   "source": [
    "from qiskit import QuantumRegister, ClassicalRegister, QuantumCircuit\n",
    "from qiskit.dagcircuit import DAGCircuit\n",
    "from qiskit.converters import circuit_to_dag\n",
    "from qiskit.visualization import dag_drawer\n",
    "from network_utils_hybrid import *\n",
    "\n",
    "import numpy as np\n",
    "import matplotlib.pyplot as plt\n",
    "import random"
   ]
  },
  {
   "cell_type": "markdown",
   "metadata": {},
   "source": [
    "Initialize netowrk topology"
   ]
  },
  {
   "cell_type": "code",
   "execution_count": 3,
   "metadata": {},
   "outputs": [],
   "source": [
    "Nrep = 100\n",
    "num_gates_list = np.arange(10,41,10)\n",
    "num_ToR = 10\n",
    "n = 6 # must be even, starts from 4\n",
    "\n",
    "specs = {\n",
    "    \"num_sw_ports\": n,\n",
    "    \"num_ToR\" : num_ToR,\n",
    "    \"qs_per_node\" : 4,\n",
    "    \"bandwidth\" : 2,\n",
    "    \"num_bsm_ir\" : 2,\n",
    "    \"num_bsm_tel\" : 2,\n",
    "    \"num_pd\" : 1, # inactive\n",
    "    \"num_laser\" : 1, # inactive\n",
    "    \"num_bs\" : 1, # inactive\n",
    "    \"num_es\" : 1 # inactive\n",
    "}\n",
    "\n",
    "G, vertex_list = clos_hybrid(specs)\n",
    "edge_switches, node_list, node_qubit_list =  vertex_list\n",
    "qubit_nx_to_qiskit = {qubit: idx for idx, qubit in enumerate(node_qubit_list)}\n"
   ]
  },
  {
   "cell_type": "markdown",
   "metadata": {},
   "source": [
    "Generate a random circuit"
   ]
  },
  {
   "cell_type": "code",
   "execution_count": 75,
   "metadata": {},
   "outputs": [
    {
     "name": "stdout",
     "output_type": "stream",
     "text": [
      "[('22,2', '58,3'), ('42,0', '104,0'), ('20,0', '65,3'), ('49,1', '33,1'), ('74,1', '96,1'), ('103,1', '91,3'), ('86,2', '107,3'), ('64,2', '44,1'), ('68,0', '104,0'), ('58,3', '76,2'), ('37,2', '43,2'), ('76,2', '87,3'), ('81,3', '41,1'), ('105,3', '106,3'), ('65,1', '67,2'), ('78,1', '46,0'), ('75,0', '66,0'), ('50,1', '26,2'), ('91,3', '60,0'), ('35,1', '84,1'), ('62,1', '67,1'), ('28,1', '47,1'), ('102,2', '104,2'), ('75,1', '100,0'), ('50,0', '64,3'), ('48,2', '44,0'), ('103,3', '91,3'), ('66,2', '84,2'), ('50,0', '38,2'), ('67,0', '31,3'), ('56,2', '51,3'), ('56,0', '39,2'), ('78,2', '48,2'), ('39,2', '102,3'), ('84,2', '47,2'), ('91,3', '92,3'), ('47,2', '64,3'), ('77,2', '47,1'), ('59,2', '62,3'), ('54,3', '38,1'), ('83,0', '40,3'), ('62,0', '103,0'), ('96,3', '92,2'), ('46,3', '27,1'), ('66,3', '71,0'), ('77,2', '37,3'), ('75,0', '100,1'), ('19,2', '45,1'), ('34,0', '22,3'), ('70,3', '59,2'), ('76,1', '48,3'), ('60,2', '36,2'), ('93,1', '62,2'), ('53,1', '103,0'), ('56,0', '47,1'), ('96,0', '92,1'), ('63,0', '18,3'), ('47,3', '101,3'), ('78,3', '91,2'), ('94,3', '78,2'), ('26,2', '54,2'), ('99,0', '66,3'), ('42,2', '34,0'), ('87,3', '64,1'), ('19,0', '48,3'), ('71,0', '101,1'), ('91,1', '31,0'), ('23,1', '67,2'), ('64,1', '27,1'), ('32,1', '41,0'), ('95,3', '39,3'), ('19,3', '49,2'), ('103,1', '19,1'), ('90,0', '57,1'), ('89,2', '19,1'), ('90,0', '69,0'), ('80,1', '31,0'), ('42,3', '24,2'), ('36,2', '81,2'), ('71,2', '37,1'), ('85,0', '69,1'), ('23,3', '85,0'), ('63,3', '60,2'), ('75,2', '49,3'), ('72,2', '62,1'), ('79,2', '73,2'), ('71,1', '77,3'), ('104,1', '98,3'), ('46,2', '56,2'), ('45,3', '62,3'), ('94,3', '51,0'), ('24,2', '19,2'), ('50,3', '48,1'), ('103,3', '71,1'), ('49,3', '87,3'), ('19,2', '36,3'), ('29,0', '60,2'), ('41,3', '63,3'), ('106,3', '102,3'), ('39,2', '55,1')]\n"
     ]
    }
   ],
   "source": [
    "num_nodes = len(node_list)\n",
    "num_qubits = len(node_qubit_list)\n",
    "qubit_list = range(num_qubits//num_nodes)\n",
    "\n",
    "num_gates = 100\n",
    "connections = []\n",
    "for i in range(num_nodes):\n",
    "    for j in range(i+1,num_nodes):\n",
    "        if np.random.rand() > 0.5:\n",
    "            connections.append((node_list[i],node_list[j]))\n",
    "        else:\n",
    "            connections.append((node_list[j],node_list[i]))\n",
    "\n",
    "gate_seq_nodes = random.choices(connections, k=num_gates)\n",
    "# print(gate_seq_nodes)\n",
    "gate_seq_input = []\n",
    "for n1, n2 in gate_seq_nodes:\n",
    "    gate_seq_input.append((f\"{n1},{random.sample(qubit_list,1)[0]}\",f\"{n2},{random.sample(qubit_list,1)[0]}\"))\n",
    "\n",
    "print(gate_seq_input)"
   ]
  },
  {
   "cell_type": "markdown",
   "metadata": {},
   "source": [
    "# Transpiler based on DAG"
   ]
  },
  {
   "cell_type": "code",
   "execution_count": 91,
   "metadata": {},
   "outputs": [
    {
     "name": "stdout",
     "output_type": "stream",
     "text": [
      "num seq: 100 , num switch: 7 , [[8, 12], [7, 12], [5, 12], [3, 12], [3, 12], [2, 7], [1, 4]]\n"
     ]
    }
   ],
   "source": [
    "qiskit_q_list = QuantumRegister(num_qubits, \"q\")\n",
    "circ = QuantumCircuit(qiskit_q_list)\n",
    "\n",
    "for g in gate_seq_input:\n",
    "    circ.cx(qubit_nx_to_qiskit[g[0]], qubit_nx_to_qiskit[g[1]])\n",
    "# print(circ)\n",
    "\n",
    "dag = circuit_to_dag(circ)\n",
    "dag_qubit_map = {bit: index for index, bit in enumerate(dag.qubits)}\n",
    "\n",
    "edge_switches, node_list, node_qubit_list = vertex_list\n",
    "num_nodes = len(node_list)\n",
    "num_edge = len(edge_switches)\n",
    "switch_seq = []\n",
    "\n",
    "counter = 0 \n",
    "while len(dag.gate_nodes())>0:\n",
    "\n",
    "    indep_gate_seq = []\n",
    "    dag_node_seq = []\n",
    "    for node in dag.front_layer():\n",
    "        if node.op.num_qubits< 2:\n",
    "            dag.remove_op_node(node)\n",
    "        if node.op.num_qubits>= 2:\n",
    "            # gate_set.append((dag_qubit_map[node.qargs[0]],dag_qubit_map[node.qargs[1]]))\n",
    "            indep_gate_seq.append((node_qubit_list[dag_qubit_map[node.qargs[0]]],node_qubit_list[dag_qubit_map[node.qargs[1]]]))\n",
    "            dag_node_seq.append(node)\n",
    "            # dag.remove_op_node(node)\n",
    "\n",
    "    # if counter >7:\n",
    "    #     # dag_drawer(dag)\n",
    "    #     print(indep_gate_seq)\n",
    "    # counter += 1\n",
    "\n",
    "\n",
    "    num_ir_swap = 0\n",
    "    num_tel_swap = 0\n",
    "    G_ins =  G.copy()\n",
    "    inds_keep = []\n",
    "    ####\n",
    "    # g_exec = [] ###\n",
    "    # random.shuffle(indep_gate_seq)\n",
    "    indep_gate_seq = sorted(indep_gate_seq, key=lambda x: random.random())\n",
    "\n",
    "    for i_g, g in enumerate(indep_gate_seq):\n",
    "        # for link in range(gate_mul_seq_iter[g]):\n",
    "        n0 = g[0]\n",
    "        n1 = g[1]\n",
    "        if nx.has_path(G_ins,n0,n1):\n",
    "            paths = nx.all_shortest_paths(G_ins, n0, n1, weight=None)\n",
    "            # path_found = False\n",
    "            for shortestpath in paths:\n",
    "                tel_ir = \"ir\"\n",
    "                if len(shortestpath)> 5 :\n",
    "                    tel_ir = \"tel\"\n",
    "\n",
    "                sp = []\n",
    "                b = []\n",
    "                for i in range(0,len(shortestpath)-1):\n",
    "                    sp.append((shortestpath[i],shortestpath[i+1]))\n",
    "                    if 1 < i < len(shortestpath)-2:\n",
    "                        sw = shortestpath[i]\n",
    "                        if G_ins.nodes[sw][\"BSM_\"+tel_ir] > 0:\n",
    "                            b.append(sw)\n",
    "                \n",
    "                if len(b)>=1:\n",
    "                    sw_bsm = random.sample(b,1)[0]\n",
    "                    G_ins.nodes[sw_bsm][\"BSM_\"+tel_ir]-= 1\n",
    "                    for u, v in sp:\n",
    "                        if G_ins[u][v]['weight'] == 1:\n",
    "                            G_ins.remove_edge(u, v)\n",
    "                        else:\n",
    "                            G_ins[u][v]['weight'] -= 1\n",
    "                    if  tel_ir == \"tel\":\n",
    "                        num_tel_swap += 1\n",
    "                    else:\n",
    "                        num_ir_swap += 1\n",
    "                    \n",
    "                    # path_found = True\n",
    "                    dag.remove_op_node(dag_node_seq[i_g])\n",
    "                    break\n",
    "\n",
    "        #     if not path_found:\n",
    "        #         break\n",
    "        # else:\n",
    "        #     break\n",
    "\n",
    "    # switch_time.append([num_ir_swap, num_tel_swap])\n",
    "    # gate_seq_iter = [gate_seq_iter[idx] for idx in inds_keep]\n",
    "\n",
    "    switch_seq.append([num_ir_swap, num_tel_swap])\n",
    "\n",
    "# print(switch_seq)\n",
    "print(\"num seq:\", len(gate_seq_input), \", num switch:\", len(switch_seq), \",\",switch_seq)"
   ]
  },
  {
   "cell_type": "markdown",
   "metadata": {},
   "source": [
    "# Original transpiler (baseline)"
   ]
  },
  {
   "cell_type": "code",
   "execution_count": 83,
   "metadata": {},
   "outputs": [
    {
     "name": "stdout",
     "output_type": "stream",
     "text": [
      "num seq: 55 , num switch: 4 , [[8, 12], [3, 12], [0, 12], [0, 8]]\n",
      "num seq: 27 , num switch: 3 , [[2, 12], [0, 12], [0, 1]]\n",
      "num seq: 12 , num switch: 1 , [[1, 11]]\n",
      "num seq: 4 , num switch: 1 , [[1, 3]]\n",
      "num seq: 2 , num switch: 1 , [[0, 2]]\n"
     ]
    }
   ],
   "source": [
    "gate_seq_iter = gate_seq_input.copy()\n",
    "\n",
    "Q = nx.Graph()\n",
    "Q.add_nodes_from(node_qubit_list)\n",
    "\n",
    "query_seq = []\n",
    "query = []\n",
    "gate_mul = {}\n",
    "gate_mul_seq = []\n",
    "while len(gate_seq_iter)>0:\n",
    "    # print(gate_seq_iter)\n",
    "    inds_keep = []\n",
    "    not_block_gate = True\n",
    "    for i_g, gate_nodes in enumerate(gate_seq_iter):\n",
    "        if Q.degree[gate_nodes[0]] > 0 or Q.degree[gate_nodes[1]] > 0:\n",
    "            # if gate_nodes in query and not_block_gate:\n",
    "            #     gate_mul[gate_nodes] += 1\n",
    "            #     # query.append(gate_nodes)\n",
    "            # else:\n",
    "            Q.add_edge(gate_nodes[0],gate_nodes[1])\n",
    "            inds_keep.append(i_g)\n",
    "            not_block_gate = False\n",
    "        else:\n",
    "            Q.add_edge(gate_nodes[0],gate_nodes[1])\n",
    "            query.append(gate_nodes)\n",
    "            gate_mul[gate_nodes] =  1\n",
    "            not_block_gate = True\n",
    "\n",
    "    query_seq.append(query)\n",
    "    gate_mul_seq.append(gate_mul)\n",
    "    query = []\n",
    "    gate_mul = {}\n",
    "    Q = nx.Graph()\n",
    "    Q.add_nodes_from(node_qubit_list)\n",
    "    gate_seq_iter = [gate_seq_iter[idx] for idx in inds_keep]\n",
    "\n",
    "for i_q, gate_seq in enumerate(query_seq):\n",
    "\n",
    "    gate_seq_iter = gate_seq[:]\n",
    "    switch_time = []\n",
    "\n",
    "    while len(gate_seq_iter)>0:\n",
    "        # bsm_stat = np.ones(num_edge,dtype=np.int16)* num_bsm\n",
    "        num_ir_swap = 0\n",
    "        num_tel_swap = 0\n",
    "        G_ins =  G.copy()\n",
    "\n",
    "        # print(gate_seq_iter)\n",
    "        inds_keep = []\n",
    "        for i_g, g in enumerate(gate_seq_iter):\n",
    "            n0 = g[0]\n",
    "            n1 = g[1]\n",
    "            if nx.has_path(G_ins,n0,n1):\n",
    "                paths = nx.all_shortest_paths(G_ins, n0, n1, weight=None)\n",
    "                path_found = False\n",
    "                for shortestpath in paths:\n",
    "                    tel_ir = \"ir\"\n",
    "                    if len(shortestpath)> 5 :\n",
    "                        tel_ir = \"tel\"\n",
    "\n",
    "                    sp = []\n",
    "                    b = []\n",
    "                    for i in range(0,len(shortestpath)-1):\n",
    "                        sp.append((shortestpath[i],shortestpath[i+1]))\n",
    "                        if 1 < i < len(shortestpath)-2:\n",
    "                            sw = shortestpath[i]\n",
    "                            # print(sw)\n",
    "                            if G_ins.nodes[sw][\"BSM_\"+tel_ir] > 0:\n",
    "                                b.append(sw)\n",
    "                    \n",
    "                    if len(b)>=1:\n",
    "                        sw_bsm = random.sample(b,1)[0]\n",
    "                        G_ins.nodes[sw_bsm][\"BSM_\"+tel_ir]-= 1\n",
    "                        for u, v in sp:\n",
    "                            if G_ins[u][v]['weight'] == 1:\n",
    "                                G_ins.remove_edge(u, v)\n",
    "                            else:\n",
    "                                G_ins[u][v]['weight'] -= 1\n",
    "                        if  tel_ir == \"tel\":\n",
    "                            num_tel_swap += 1\n",
    "                        else:\n",
    "                            num_ir_swap += 1\n",
    "                        \n",
    "                        path_found = True\n",
    "                        break\n",
    "\n",
    "                if not path_found:\n",
    "                    inds_keep.append(i_g)\n",
    "            else:\n",
    "                inds_keep.append(i_g)\n",
    "\n",
    "        switch_time.append([num_ir_swap, num_tel_swap])\n",
    "        gate_seq_iter = [gate_seq_iter[idx] for idx in inds_keep]\n",
    "    print(\"num seq:\", len(gate_seq), \", num switch:\", len(switch_time), \",\",switch_time)\n"
   ]
  },
  {
   "cell_type": "markdown",
   "metadata": {},
   "source": [
    "# Basics\n",
    "Stuff to learn basics of DAG, sanity checks, etc"
   ]
  },
  {
   "cell_type": "code",
   "execution_count": 9,
   "metadata": {},
   "outputs": [
    {
     "name": "stdout",
     "output_type": "stream",
     "text": [
      "[[11, 35], [3, 36], [10, 39], [61, 7], [69, 34], [18, 80], [88, 41], [91, 75], [83, 93], [43, 106], [121, 16], [126, 78], [130, 129], [86, 132], [137, 92], [138, 108], [143, 65], [146, 113], [149, 97], [150, 59], [123, 151], [153, 67], [158, 30], [13, 161], [23, 162], [159, 164], [55, 165], [42, 169], [21, 173], [156, 175], [133, 178], [179, 122], [33, 180], [184, 163], [186, 81], [136, 189], [191, 56], [194, 167], [148, 197], [208, 40], [29, 209], [31, 210], [213, 187], [220, 48], [222, 54], [128, 223], [109, 224], [226, 115], [232, 114], [94, 235], [237, 49], [142, 240], [241, 206], [242, 200], [134, 243], [111, 244], [245, 17], [253, 239], [267, 202], [255, 269]]\n",
      "[[64, 75], [98, 34], [39, 100], [92, 102], [35, 105], [1, 121], [139, 11], [148, 37], [153, 60], [167, 172], [78, 185], [151, 194], [201, 49], [206, 63], [208, 31], [210, 202], [217, 7], [101, 220], [221, 213], [189, 232], [168, 245], [181, 253], [197, 254], [130, 263], [164, 266], [5, 267]]\n",
      "[[16, 64], [37, 101], [121, 103], [148, 28], [151, 11], [35, 188], [190, 181], [88, 202], [229, 49], [253, 236]]\n",
      "[[25, 16], [151, 226]]\n",
      "[[53, 16], [104, 151]]\n"
     ]
    }
   ],
   "source": [
    "qiskit_q_list = QuantumRegister(num_qubits, \"q\")\n",
    "circ = QuantumCircuit(qiskit_q_list)\n",
    "\n",
    "for g in gate_seq:\n",
    "    circ.cx(qubit_nx_to_qiskit[g[0]], qubit_nx_to_qiskit[g[1]])\n",
    "# print(circ)\n",
    "\n",
    "dag = circuit_to_dag(circ)\n",
    "dag_qubit_map = {bit: index for index, bit in enumerate(dag.qubits)}\n",
    "\n",
    "# dag_drawer(dag)\n",
    "qiskit_query_seq = []\n",
    "while len(dag.gate_nodes())>0:\n",
    "    gate_set = []\n",
    "    for node in dag.front_layer():\n",
    "        if node.op.num_qubits< 2:\n",
    "            dag.remove_op_node(node)\n",
    "        if node.op.num_qubits>= 2:\n",
    "            gate_set.append([dag_qubit_map[node.qargs[0]],dag_qubit_map[node.qargs[1]]])\n",
    "            # gate_set.append((node_qubit_list[dag_qubit_map[node.qargs[0]]],node_qubit_list[dag_qubit_map[node.qargs[1]]]))\n",
    "            dag.remove_op_node(node)\n",
    "    print((gate_set))\n",
    "    qiskit_query_seq.append(gate_set)\n"
   ]
  },
  {
   "cell_type": "code",
   "execution_count": 10,
   "metadata": {},
   "outputs": [
    {
     "name": "stdout",
     "output_type": "stream",
     "text": [
      "True\n",
      "True\n",
      "True\n",
      "True\n",
      "True\n"
     ]
    }
   ],
   "source": [
    "gate_seq_iter = gate_seq.copy()\n",
    "\n",
    "Q = nx.Graph()\n",
    "Q.add_nodes_from(node_qubit_list)\n",
    "\n",
    "query_seq = []\n",
    "query = []\n",
    "gate_mul = {}\n",
    "gate_mul_seq = []\n",
    "while len(gate_seq_iter)>0:\n",
    "    # print(gate_seq_iter)\n",
    "    inds_keep = []\n",
    "    not_block_gate = True\n",
    "    for i_g, gate_nodes in enumerate(gate_seq_iter):\n",
    "        if Q.degree[gate_nodes[0]] > 0 or Q.degree[gate_nodes[1]] > 0:\n",
    "            # if gate_nodes in query and not_block_gate:\n",
    "            #     gate_mul[gate_nodes] += 1\n",
    "            #     # query.append(gate_nodes)\n",
    "            # else:\n",
    "            Q.add_edge(gate_nodes[0],gate_nodes[1])\n",
    "            inds_keep.append(i_g)\n",
    "            not_block_gate = False\n",
    "        else:\n",
    "            Q.add_edge(gate_nodes[0],gate_nodes[1])\n",
    "            query.append(gate_nodes)\n",
    "            gate_mul[gate_nodes] =  1\n",
    "            not_block_gate = True\n",
    "\n",
    "    query_seq.append(query)\n",
    "    gate_mul_seq.append(gate_mul)\n",
    "    query = []\n",
    "    gate_mul = {}\n",
    "    Q = nx.Graph()\n",
    "    Q.add_nodes_from(node_qubit_list)\n",
    "    gate_seq_iter = [gate_seq_iter[idx] for idx in inds_keep]\n",
    "\n",
    "# for query in query_seq:\n",
    "for i_q, query in enumerate(query_seq):\n",
    "    qiskit_query = []\n",
    "    for gate in query:\n",
    "        qiskit_query.append([qubit_nx_to_qiskit[gate[0]],qubit_nx_to_qiskit[gate[1]]])\n",
    "    # print(sorted(qiskit_query))\n",
    "    print(sorted(qiskit_query)==sorted(qiskit_query_seq[i_q]))\n",
    "    # print(len(qiskit_query)==len(qiskit_query_seq[i_q]))\n",
    "    \n",
    "    # print(np.array_equal(np.array(qiskit_query), np.array(qiskit_query_seq[i_q]) ))"
   ]
  },
  {
   "cell_type": "code",
   "execution_count": 31,
   "metadata": {},
   "outputs": [
    {
     "name": "stdout",
     "output_type": "stream",
     "text": [
      "6 6\n"
     ]
    }
   ],
   "source": [
    "print(len(query_seq),len(qiskit_query_seq))"
   ]
  },
  {
   "cell_type": "code",
   "execution_count": 98,
   "metadata": {},
   "outputs": [
    {
     "name": "stdout",
     "output_type": "stream",
     "text": [
      "[('2,1', '7,2'), ('4,2', '7,2'), ('0,2', '1,1'), ('4,2', '1,0'), ('7,1', '5,1'), ('2,3', '4,0'), ('4,0', '7,1'), ('3,1', '4,1'), ('7,0', '1,3'), ('0,1', '1,0'), ('7,0', '6,0'), ('2,1', '6,3'), ('7,3', '5,0'), ('5,3', '0,1'), ('2,2', '4,3'), ('6,3', '1,0'), ('7,0', '5,0'), ('7,2', '5,0'), ('0,0', '1,1'), ('6,1', '5,0'), ('2,0', '4,1'), ('2,1', '7,0'), ('3,2', '6,1'), ('5,1', '0,3'), ('2,2', '0,1'), ('0,0', '1,3'), ('7,0', '5,0'), ('0,2', '3,2'), ('2,1', '3,1'), ('1,1', '5,3'), ('2,1', '5,1'), ('6,3', '5,1'), ('2,0', '1,3'), ('2,2', '0,1'), ('2,3', '6,0'), ('3,0', '4,0'), ('7,0', '1,2'), ('2,0', '3,3'), ('4,2', '7,1'), ('2,3', '4,2'), ('7,3', '1,1'), ('3,3', '4,3'), ('6,3', '1,0'), ('6,2', '4,2'), ('6,1', '1,0'), ('3,2', '1,2'), ('0,2', '6,1'), ('7,3', '6,3'), ('2,3', '5,3'), ('2,3', '6,1'), ('3,0', '6,0'), ('2,2', '3,1'), ('5,1', '3,1'), ('3,1', '4,0'), ('0,2', '1,2'), ('6,0', '1,3'), ('4,3', '0,2'), ('3,1', '4,2'), ('4,2', '7,3'), ('3,3', '1,0'), ('2,3', '7,3'), ('7,2', '0,0'), ('7,0', '5,1'), ('2,2', '4,3'), ('7,2', '0,0'), ('3,1', '4,3'), ('7,3', '6,1'), ('3,3', '4,3'), ('7,3', '1,2'), ('7,3', '6,3'), ('6,1', '4,1'), ('0,2', '1,0'), ('2,0', '4,1'), ('2,2', '6,2'), ('4,2', '1,2'), ('7,2', '1,2'), ('6,3', '1,0'), ('3,1', '6,3'), ('7,3', '0,2'), ('5,2', '0,2'), ('0,0', '1,2'), ('5,2', '0,3'), ('3,2', '6,0'), ('4,0', '7,3'), ('2,2', '5,3'), ('2,2', '3,0'), ('0,0', '3,1'), ('2,2', '0,0'), ('2,1', '0,0'), ('7,1', '1,1'), ('7,1', '5,1'), ('7,3', '5,1'), ('5,0', '0,0'), ('7,2', '0,0'), ('5,1', '4,0'), ('7,2', '1,3'), ('0,3', '3,1'), ('3,3', '4,2'), ('7,3', '5,3'), ('2,3', '0,0')]\n"
     ]
    }
   ],
   "source": [
    "num_nodes = 8\n",
    "node_list = range(num_nodes)\n",
    "qubits_per_node = 4\n",
    "qubit_list = range(qubits_per_node)\n",
    "num_qubits = num_nodes * qubits_per_node\n",
    "num_gates = 100\n",
    "\n",
    "node_qubit_list = []\n",
    "for node in node_list:\n",
    "    for qubit in range(qubits_per_node):\n",
    "        node_qubit_list.append((f\"{node},{qubit}\"))\n",
    "\n",
    "qubit_nx_to_qiskit = {qubit: idx for idx, qubit in enumerate(node_qubit_list)}\n",
    "\n",
    "connections = []\n",
    "for i in range(num_nodes):\n",
    "    for j in range(i+1,num_nodes):\n",
    "        if np.random.rand() > 0.5:\n",
    "            connections.append((node_list[i],node_list[j]))\n",
    "        else:\n",
    "            connections.append((node_list[j],node_list[i]))\n",
    "\n",
    "gate_seq_nodes = random.choices(connections, k=num_gates)\n",
    "# print(gate_seq_nodes)\n",
    "gate_seq = []\n",
    "for n1, n2 in gate_seq_nodes:\n",
    "    gate_seq.append((f\"{n1},{random.sample(qubit_list,1)[0]}\",f\"{n2},{random.sample(qubit_list,1)[0]}\"))\n",
    "\n",
    "print(gate_seq)"
   ]
  },
  {
   "cell_type": "code",
   "execution_count": 99,
   "metadata": {},
   "outputs": [
    {
     "name": "stdout",
     "output_type": "stream",
     "text": [
      "[('0,2', '1,1'), ('2,3', '4,0'), ('3,1', '4,1'), ('2,2', '4,3'), ('7,0', '1,3'), ('7,1', '5,1'), ('2,1', '7,2'), ('7,3', '5,0')]\n",
      "[('0,0', '1,1'), ('2,0', '4,1'), ('5,1', '0,3'), ('2,1', '6,3'), ('7,0', '6,0'), ('4,0', '7,1'), ('4,2', '7,2')]\n",
      "[('0,0', '1,3'), ('3,0', '4,0'), ('4,2', '1,0'), ('2,3', '6,0'), ('7,0', '5,0')]\n",
      "[('0,1', '1,0'), ('2,0', '1,3'), ('3,0', '6,0'), ('2,1', '7,0'), ('4,2', '7,1'), ('7,2', '5,0')]\n",
      "[('2,1', '3,1'), ('2,0', '3,3'), ('2,3', '4,2'), ('5,3', '0,1'), ('6,0', '1,3'), ('6,1', '5,0'), ('6,3', '1,0'), ('7,2', '0,0')]\n",
      "[('2,2', '0,1'), ('3,3', '4,3'), ('2,1', '5,1'), ('1,1', '5,3'), ('3,2', '6,1'), ('6,2', '4,2'), ('7,0', '5,0'), ('7,2', '0,0')]\n",
      "[('2,2', '0,1'), ('0,2', '3,2'), ('2,3', '5,3'), ('6,3', '5,1'), ('7,0', '1,2'), ('7,3', '1,1')]\n",
      "[('2,2', '3,1'), ('3,2', '1,2'), ('6,3', '1,0'), ('7,1', '1,1')]\n",
      "[('5,1', '3,1'), ('3,2', '6,0'), ('6,1', '1,0'), ('7,3', '6,3')]\n",
      "[('3,3', '1,0'), ('3,1', '4,0'), ('0,2', '6,1'), ('7,0', '5,1')]\n",
      "[('0,2', '1,2'), ('3,1', '4,2'), ('2,3', '6,1'), ('7,1', '5,1')]\n",
      "[('4,3', '0,2'), ('4,2', '7,3')]\n",
      "[('0,2', '1,0'), ('2,2', '4,3'), ('2,3', '7,3')]\n",
      "[('3,1', '4,3'), ('2,2', '6,2'), ('7,3', '6,1')]\n",
      "[('3,3', '4,3'), ('2,2', '5,3'), ('6,1', '4,1'), ('7,3', '1,2')]\n",
      "[('2,2', '3,0'), ('2,0', '4,1'), ('4,2', '1,2'), ('7,3', '6,3')]\n",
      "[('3,3', '4,2'), ('6,3', '1,0'), ('7,2', '1,2'), ('7,3', '0,2')]\n",
      "[('0,0', '1,2'), ('5,2', '0,2'), ('3,1', '6,3'), ('4,0', '7,3')]\n",
      "[('0,0', '3,1'), ('5,2', '0,3'), ('7,3', '5,1')]\n",
      "[('2,2', '0,0'), ('0,3', '3,1'), ('5,1', '4,0'), ('7,3', '5,3')]\n",
      "[('2,1', '0,0')]\n",
      "[('5,0', '0,0')]\n",
      "[('7,2', '0,0')]\n",
      "[('2,3', '0,0'), ('7,2', '1,3')]\n"
     ]
    }
   ],
   "source": [
    "qiskit_q_list = QuantumRegister(num_qubits, \"q\")\n",
    "circ = QuantumCircuit(qiskit_q_list)\n",
    "\n",
    "for g in gate_seq:\n",
    "    circ.cx(qubit_nx_to_qiskit[g[0]], qubit_nx_to_qiskit[g[1]])\n",
    "# print(circ)\n",
    "\n",
    "dag = circuit_to_dag(circ)\n",
    "dag_qubit_map = {bit: index for index, bit in enumerate(dag.qubits)}\n",
    "\n",
    "# dag_drawer(dag)\n",
    "while len(dag.gate_nodes())>0:\n",
    "    gate_set = []\n",
    "    for node in dag.front_layer():\n",
    "        if node.op.num_qubits< 2:\n",
    "            dag.remove_op_node(node)\n",
    "        if node.op.num_qubits>= 2:\n",
    "            # gate_set.append((dag_qubit_map[node.qargs[0]],dag_qubit_map[node.qargs[1]]))\n",
    "            gate_set.append((node_qubit_list[dag_qubit_map[node.qargs[0]]],node_qubit_list[dag_qubit_map[node.qargs[1]]]))\n",
    "            dag.remove_op_node(node)\n",
    "    print(gate_set)"
   ]
  },
  {
   "cell_type": "code",
   "execution_count": 79,
   "metadata": {},
   "outputs": [
    {
     "data": {
      "text/plain": [
       "['0,0', '0,1', '1,0', '1,1', '2,0', '2,1', '3,0', '3,1']"
      ]
     },
     "execution_count": 79,
     "metadata": {},
     "output_type": "execute_result"
    }
   ],
   "source": [
    "node_qubit_list"
   ]
  },
  {
   "cell_type": "code",
   "execution_count": 67,
   "metadata": {},
   "outputs": [
    {
     "name": "stdout",
     "output_type": "stream",
     "text": [
      "     ┌───┐               \n",
      "q_0: ┤ H ├──■─────────■──\n",
      "     └───┘┌─┴─┐     ┌─┴─┐\n",
      "q_1: ─────┤ X ├──■──┤ X ├\n",
      "          └───┘┌─┴─┐└───┘\n",
      "q_2: ──■───────┤ X ├─────\n",
      "     ┌─┴─┐     └───┘     \n",
      "q_3: ┤ X ├───────────────\n",
      "     └───┘               \n"
     ]
    },
    {
     "data": {
      "image/png": "[encoded data removed]",
      "text/plain": [
       "<PIL.PngImagePlugin.PngImageFile image mode=RGBA size=294x466>"
      ]
     },
     "execution_count": 67,
     "metadata": {},
     "output_type": "execute_result"
    }
   ],
   "source": [
    "from qiskit import QuantumRegister, ClassicalRegister, QuantumCircuit\n",
    "from qiskit.dagcircuit import DAGCircuit\n",
    "from qiskit.converters import circuit_to_dag\n",
    "from qiskit.visualization import dag_drawer\n",
    " \n",
    "q = QuantumRegister(4, 'q')\n",
    "# c = ClassicalRegister(3, 'c')\n",
    "# circ = QuantumCircuit(q, c)\n",
    "circ = QuantumCircuit(q)\n",
    "circ.h(q[0])\n",
    "circ.cx(q[0], q[1])\n",
    "circ.cx(q[2], q[3])\n",
    "circ.cx(q[1], q[2])\n",
    "circ.cx(q[0], q[1])\n",
    "# circ.measure(q[0], c[0])\n",
    "# circ.rz(0.5, q[1]).c_if(c, 2)\n",
    " \n",
    "print(circ)\n",
    "\n",
    "dag = circuit_to_dag(circ)\n",
    "dag_drawer(dag)"
   ]
  },
  {
   "cell_type": "code",
   "execution_count": 69,
   "metadata": {},
   "outputs": [
    {
     "name": "stdout",
     "output_type": "stream",
     "text": [
      "[(0, 1), (2, 3)]\n",
      "[(1, 2)]\n",
      "[(0, 1)]\n"
     ]
    }
   ],
   "source": [
    "# from pprint import pprint\n",
    "\n",
    "dag_qubit_map = {bit: index for index, bit in enumerate(dag.qubits)}\n",
    "\n",
    "# for node in dag.gate_nodes():\n",
    "#     # print(type(node))#, \":\")\n",
    "#     # print(node.op)\n",
    "#     # print(node.qargs[0])\n",
    "#     # print(node.sort_key)\n",
    "#     if node.op.num_qubits> 1:\n",
    "#         print(dag_qubit_map[node.qargs[0]],dag_qubit_map[node.qargs[1]])\n",
    "#     print(\"---------\")\n",
    "#     # print()\n",
    "#     # pprint(vars(node))\n",
    "#     # print(vars(node))\n",
    "\n",
    "#     # for n2 in (dag.predecessors(node)):\n",
    "#     #     print(n2)\n",
    "# # # print(dag.wires)\n",
    "# # # dag.bfs_successors(124546370769216)\n",
    "\n",
    "while len(dag.gate_nodes())>0:\n",
    "    gate_set = []\n",
    "    for node in dag.front_layer():\n",
    "        if node.op.num_qubits< 2:\n",
    "            dag.remove_op_node(node)\n",
    "        if node.op.num_qubits>= 2:\n",
    "            gate_set.append((dag_qubit_map[node.qargs[0]],dag_qubit_map[node.qargs[1]]))\n",
    "            dag.remove_op_node(node)\n",
    "    print(gate_set)\n",
    "    # print(\"---------\")\n",
    "\n"
   ]
  },
  {
   "cell_type": "code",
   "execution_count": 24,
   "metadata": {},
   "outputs": [
    {
     "name": "stdout",
     "output_type": "stream",
     "text": [
      "124546372796736\n",
      "124546370881344\n",
      "124546372761728\n",
      "124546370772480\n"
     ]
    }
   ],
   "source": [
    "for i in range(4):\n",
    "    print(dag.node(i))"
   ]
  }
 ],
 "metadata": {
  "kernelspec": {
   "display_name": "qswitch",
   "language": "python",
   "name": "python3"
  },
  "language_info": {
   "codemirror_mode": {
    "name": "ipython",
    "version": 3
   },
   "file_extension": ".py",
   "mimetype": "text/x-python",
   "name": "python",
   "nbconvert_exporter": "python",
   "pygments_lexer": "ipython3",
   "version": "3.10.13"
  },
  "orig_nbformat": 4
 },
 "nbformat": 4,
 "nbformat_minor": 2
}
