{
 "cells": [
  {
   "cell_type": "code",
   "execution_count": 1,
   "metadata": {},
   "outputs": [],
   "source": [
    "import numpy as np\n",
    "import matplotlib.pyplot as plt\n",
    "import time\n",
    "\n",
    "def poisson_random_process(lmbda, total_time):\n",
    "    \"\"\"\n",
    "    Generate a Poisson random process.\n",
    "    \n",
    "    Parameters:\n",
    "        lmbda (float): The parameter lambda of the Poisson distribution.\n",
    "        total_time (float): The total time for the process.\n",
    "    \n",
    "    Returns:\n",
    "        numpy.ndarray: An array of timestamps when events occur.\n",
    "    \"\"\"\n",
    "    num_events = np.random.poisson(lmbda * total_time)\n",
    "    event_times = np.cumsum(np.random.exponential(1 / lmbda, num_events))\n",
    "    event_times = event_times[event_times < total_time]\n",
    "    return event_times\n",
    "\n"
   ]
  },
  {
   "cell_type": "code",
   "execution_count": 3,
   "metadata": {},
   "outputs": [
    {
     "data": {
      "image/png": "[encoded data removed]",
      "text/plain": [
       "<Figure size 640x480 with 1 Axes>"
      ]
     },
     "metadata": {},
     "output_type": "display_data"
    }
   ],
   "source": [
    "## HOM for partially distinguishable photons\n",
    "hom_coincidence = lambda x, dw: np.exp(-(x*dw) **2/2 ) \n",
    "dw = 250 # GHz\n",
    "x = np.linspace(-1,1,200)*4/dw\n",
    "plt.plot(x, hom_coincidence(x,dw))\n",
    "plt.xlabel(\"time [psec]\")\n",
    "plt.show()"
   ]
  },
  {
   "cell_type": "markdown",
   "metadata": {},
   "source": [
    "## sanity checks"
   ]
  },
  {
   "cell_type": "code",
   "execution_count": 27,
   "metadata": {},
   "outputs": [
    {
     "name": "stdout",
     "output_type": "stream",
     "text": [
      "0 [False, False]\n",
      "0 [0, 0]\n",
      "prob: 0.0\n",
      "1 [True, False]\n",
      "1 [1.8493649140782884, 0]\n",
      "2 [True, True]\n",
      "0 [1.8493649140782884, 2.3744986960893595]\n",
      "3 [False, True]\n",
      "0 [0, 2.3744986960893595]\n",
      "4 [True, True]\n",
      "0 [2.947954198193826, 2.3744986960893595]\n",
      "5 [True, False]\n",
      "1 [2.947954198193826, 0]\n",
      "6 [True, True]\n",
      "1 [2.947954198193826, 4.113802339550154]\n",
      "7 [False, True]\n",
      "0 [0, 4.113802339550154]\n",
      "8 [True, True]\n",
      "1 [4.370651824579742, 4.113802339550154]\n",
      "9 [True, True]\n",
      "0 [4.370651824579742, 4.113802339550154]\n",
      "10 [True, True]\n",
      "0 [4.370651824579742, 4.113802339550154]\n",
      "11 [True, False]\n",
      "1 [4.370651824579742, 0]\n",
      "12 [True, True]\n",
      "1 [4.370651824579742, 5.359675021785615]\n",
      "13 [True, False]\n",
      "1 [4.370651824579742, 0]\n",
      "prob: 9.266667201049608e-152\n",
      "14 [False, True]\n",
      "0 [0, 6.454688350595846]\n",
      "15 [True, True]\n",
      "1 [6.7184179508857635, 6.454688350595846]\n",
      "16 [True, False]\n",
      "1 [6.7184179508857635, 0]\n",
      "17 [True, True]\n",
      "0 [6.7184179508857635, 7.587422769001142]\n",
      "18 [False, True]\n",
      "0 [0, 7.587422769001142]\n",
      "19 [True, True]\n",
      "1 [7.763633775666479, 7.587422769001142]\n",
      "20 [True, True]\n",
      "0 [7.763633775666479, 7.587422769001142]\n",
      "21 [True, False]\n",
      "1 [7.763633775666479, 0]\n",
      "22 [True, True]\n",
      "1 [7.763633775666479, 9.31796268258203]\n",
      "23 [False, True]\n",
      "0 [0, 9.31796268258203]\n",
      "24 [True, True]\n",
      "0 [11.945645926947112, 9.31796268258203]\n",
      "25 [True, True]\n",
      "0 [11.945645926947112, 9.31796268258203]\n",
      "26 [True, True]\n",
      "0 [11.945645926947112, 9.31796268258203]\n",
      "27 [True, False]\n",
      "1 [11.945645926947112, 0]\n",
      "28 [True, True]\n",
      "1 [11.945645926947112, 13.154368027339302]\n",
      "29 [False, True]\n",
      "0 [0, 13.154368027339302]\n",
      "30 [True, True]\n",
      "1 [14.071944862767877, 13.154368027339302]\n",
      "31 [True, True]\n",
      "0 [14.071944862767877, 13.154368027339302]\n",
      "32 [True, False]\n",
      "1 [14.071944862767877, 0]\n",
      "33 [True, True]\n",
      "1 [14.071944862767877, 15.911890164485367]\n",
      "34 [True, True]\n",
      "1 [14.071944862767877, 15.911890164485367]\n",
      "35 [True, False]\n",
      "1 [14.071944862767877, 0]\n",
      "prob: 0.97737834453677\n",
      "1\n"
     ]
    }
   ],
   "source": [
    "gen_rate = 1 # Parameter lambda in Hz\n",
    "total_time = 1e3  # Total time in sec for the process\n",
    "dw = 1e2\n",
    "\n",
    "reset_time = 1\n",
    "\n",
    "np.random.seed(124)\n",
    "\n",
    "# print(i_r, end=\"\\r\")\n",
    "s1 = poisson_random_process(gen_rate, total_time)\n",
    "s2 = poisson_random_process(gen_rate, total_time)\n",
    "\n",
    "num_trials = min(s1.shape[0],s2.shape[0])\n",
    "# num_trials\n",
    "all_events = np.concatenate((s1,s2))\n",
    "events_inds = all_events.argsort()\n",
    "all_events = all_events[events_inds]\n",
    "emissions = np.zeros(events_inds.shape[0], dtype=np.int32)\n",
    "emissions[np.argwhere(events_inds>=s1.shape[0])] = 1\n",
    "\n",
    "succ_prob = 0\n",
    "qu_reset = [False, False]\n",
    "qu_avaialble_time = [0,0]\n",
    "i_trial = 0\n",
    "while i_trial < 100:#len(emissions)-1:\n",
    "    if all_events[i_trial] >= qu_avaialble_time[emissions[i_trial]]:\n",
    "        qu_reset[emissions[i_trial]] = False\n",
    "        qu_avaialble_time[emissions[i_trial]] = 0\n",
    "    print(i_trial, qu_reset)\n",
    "    print(emissions[i_trial], qu_avaialble_time)\n",
    "    \n",
    "    if emissions[i_trial+1]== 1- emissions[i_trial]:\n",
    "        if all_events[i_trial+1] >= qu_avaialble_time[emissions[i_trial+1]]:\n",
    "            qu_reset[emissions[i_trial+1]] = False\n",
    "            qu_avaialble_time[emissions[i_trial+1]] = 0\n",
    "\n",
    "        if (not qu_reset[0])*(not qu_reset[1]):\n",
    "            dt = all_events[i_trial+1]-all_events[i_trial]\n",
    "            prob = hom_coincidence(dt,dw) # 0.5 for BSM post selection\n",
    "            print(f\"prob: {prob}\")\n",
    "            if np.random.rand()< prob: # accept with probability p\n",
    "        #     ## check if BSM can be performed\n",
    "                ## BSM measurement\n",
    "                succ_prob = 1\n",
    "                break\n",
    "            # i_trial += 2\n",
    "            \n",
    "    # ## shift timer\n",
    "    # new_avail_time = all_events[i_trial]+reset_time\n",
    "    if  all_events[i_trial] >= qu_avaialble_time[emissions[i_trial]]:\n",
    "        qu_reset[emissions[i_trial]] = True\n",
    "        qu_avaialble_time[emissions[i_trial]] = all_events[i_trial]+reset_time\n",
    "        \n",
    "    i_trial += 1\n",
    "    # print(qu_reset, qu_a\n",
    "print(succ_prob)"
   ]
  },
  {
   "cell_type": "code",
   "execution_count": 30,
   "metadata": {},
   "outputs": [
    {
     "name": "stdout",
     "output_type": "stream",
     "text": [
      "[1 0 1 1 1 1 0 0 0 0 0 1 0 1 0 0 1 1 0 1 1 1 1 0 1 1 1 1 1 0 0 0 0 0 0 1 0\n",
      " 1 1 0 0 1 1 0 1 1 1 1 0 0 1 0 0 1 0 0 1 1 0 1 1 0 0 1 1 1 1 0 1 1]\n",
      "[13.14784124 14.0280308  14.91189016 15.10291962 15.27933675 16.35617778\n",
      " 16.35831701 17.3328552  17.63412477 18.44496976 18.96414091 19.10088587\n",
      " 19.1170076  19.6540271  19.97915669 20.72680493 21.79900807 22.82388525\n",
      " 23.51664763 25.06127313 25.38249692 25.95341737 26.29343334 26.70787881\n",
      " 26.7708829  26.77660354 27.27170896 27.96454642 30.28920034 30.87040396\n",
      " 31.13301121 31.2351317  31.51716133 32.69079138 32.91072995 34.10693394\n",
      " 34.67990946 34.68209251 34.69266056 35.10475201 35.82632924 36.12197646\n",
      " 36.21891947 36.90855053 37.32247652 38.52588785 39.15507018 39.50307792\n",
      " 39.62097766 39.69022128 40.35449242 41.06415114 41.55891088 41.78267485\n",
      " 42.32626111 42.38859321 42.93023356 43.24630661 44.60827016 44.82609652\n",
      " 45.70449123 46.11277947 47.22180487 47.30278957 47.51171352 47.56144142\n",
      " 47.86488845 48.5500292  48.74465721 49.12276969]\n"
     ]
    }
   ],
   "source": [
    "print(emissions[30:100])\n",
    "print(all_events[30:100])"
   ]
  },
  {
   "cell_type": "code",
   "execution_count": 68,
   "metadata": {},
   "outputs": [
    {
     "data": {
      "image/png": "[encoded data removed]",
      "text/plain": [
       "<Figure size 500x150 with 1 Axes>"
      ]
     },
     "metadata": {},
     "output_type": "display_data"
    },
    {
     "data": {
      "text/plain": [
       "<BarContainer object of 97 artists>"
      ]
     },
     "execution_count": 68,
     "metadata": {},
     "output_type": "execute_result"
    },
    {
     "data": {
      "image/png": "[encoded data removed]",
      "text/plain": [
       "<Figure size 500x150 with 1 Axes>"
      ]
     },
     "metadata": {},
     "output_type": "display_data"
    }
   ],
   "source": [
    "plt.figure(figsize=(5,1.5))\n",
    "plt.bar(s1*1e6,1,width=2e-1)\n",
    "plt.show()\n",
    "plt.figure(figsize=(5,1.5))\n",
    "plt.bar(s2*1e6,1,width=2e-1,color=\"C1\")\n"
   ]
  },
  {
   "cell_type": "code",
   "execution_count": 6,
   "metadata": {},
   "outputs": [
    {
     "name": "stdout",
     "output_type": "stream",
     "text": [
      "[ 1  2  3  5  7  8 10 12 14]\n",
      "[0. 1. 0. 1. 1. 1. 0. 1. 0.]\n"
     ]
    }
   ],
   "source": [
    "## sanity check\n",
    "\n",
    "s1 = np.array([1,3,10,14])\n",
    "s2 = np.array([2,5,7,8,12])\n",
    "all_events = np.concatenate((s1,s2))\n",
    "events_inds = all_events.argsort()\n",
    "all_events = all_events[events_inds]\n",
    "emissions = np.zeros(events_inds.shape[0])\n",
    "emissions[np.argwhere(events_inds>=s1.shape[0])] = 1\n",
    "\n",
    "print(all_events)\n",
    "print(emissions)\n"
   ]
  },
  {
   "cell_type": "code",
   "execution_count": 37,
   "metadata": {},
   "outputs": [
    {
     "name": "stdout",
     "output_type": "stream",
     "text": [
      "(0), elapsed time 0.2963430881500244 sec\n",
      "(1), elapsed time 0.5682923793792725 sec\n",
      "(2), elapsed time 1.4117405414581299 sec\n",
      "(3), elapsed time 3.7375104427337646 sec\n",
      "(4), elapsed time 9.237976312637329 sec\n",
      "(5), elapsed time 19.299910306930542 sec\n",
      "(6), elapsed time 32.05641961097717 sec\n",
      "(7), elapsed time 41.698450326919556 sec\n"
     ]
    }
   ],
   "source": [
    "gen_rate = 1e6 # Parameter lambda in Hz\n",
    "total_time_list = np.logspace(-5,-2,8)  # Total time in sec for the process\n",
    "dw = 10**9\n",
    "\n",
    "reset_time_list = [1e-7,1e-6]\n",
    "\n",
    "Nrep = 1000\n",
    "succ_prob = np.zeros((len(total_time_list),len(reset_time_list), Nrep))\n",
    "for i_t, total_time in enumerate(total_time_list):\n",
    "    tic = time.time()\n",
    "    for i_reset, reset_time in enumerate(reset_time_list):\n",
    "        for i_r in range(Nrep):\n",
    "        # print(i_r, end=\"\\r\")\n",
    "            s1 = poisson_random_process(gen_rate, total_time)\n",
    "            s2 = poisson_random_process(gen_rate, total_time)\n",
    "\n",
    "            num_trials = min(s1.shape[0],s2.shape[0])\n",
    "            # num_trials\n",
    "            all_events = np.concatenate((s1,s2))\n",
    "            events_inds = all_events.argsort()\n",
    "            all_events = all_events[events_inds]\n",
    "            emissions = np.zeros(events_inds.shape[0], dtype=np.int32)\n",
    "            emissions[np.argwhere(events_inds>=s1.shape[0])] = 1\n",
    "\n",
    "            # time_diff = []\n",
    "\n",
    "            qu_reset = [False, False]\n",
    "            qu_avaialble_time = [0,0]\n",
    "            i_trial = 0\n",
    "            while i_trial < len(emissions)-1:\n",
    "                if all_events[i_trial] >= qu_avaialble_time[emissions[i_trial]]:\n",
    "                    qu_reset[emissions[i_trial]] = False\n",
    "                    qu_avaialble_time[emissions[i_trial]] = 0\n",
    "                \n",
    "                if emissions[i_trial+1]== 1- emissions[i_trial]:\n",
    "                    if all_events[i_trial+1] >= qu_avaialble_time[emissions[i_trial+1]]:\n",
    "                        qu_reset[emissions[i_trial+1]] = False\n",
    "                        qu_avaialble_time[emissions[i_trial+1]] = 0\n",
    "\n",
    "                    if (not qu_reset[0])*(not qu_reset[1]):\n",
    "                        dt = all_events[i_trial+1]-all_events[i_trial]\n",
    "                        prob = 0.5* hom_coincidence(dt,dw) # 0.5 for BSM post selection\n",
    "                        if np.random.rand()< prob: # accept with probability p\n",
    "                    #     ## check if BSM can be performed\n",
    "                            ## BSM measurement\n",
    "                            succ_prob[i_t,i_reset,i_r] = 1\n",
    "                            break\n",
    "                        # i_trial += 2\n",
    "                        \n",
    "                # ## shift timer\n",
    "                # new_avail_time = all_events[i_trial]+reset_time\n",
    "                if  all_events[i_trial] >= qu_avaialble_time[emissions[i_trial]]:\n",
    "                    qu_reset[emissions[i_trial]] = True\n",
    "                    qu_avaialble_time[emissions[i_trial]] = all_events[i_trial]+reset_time\n",
    "                    \n",
    "                i_trial += 1\n",
    "\n",
    "                # if emissions[i_trial+1]== 1- emissions[i_trial]:\n",
    "                #     dt = all_events[i_trial+1]-all_events[i_trial]\n",
    "                #     prob = 0.5* hom_coincidence(dt,dw) # 0.5 for BSM post selection\n",
    "                #     if np.random.rand()< prob: # accept with probability p\n",
    "                #     #     ## check if BSM can be performed\n",
    "                #         if (not qu_reset[0])*(not qu_reset[1]):\n",
    "                #             ## BSM measurement\n",
    "                #             succ_prob[i_t,i_reset,i_r] = 1\n",
    "                #             break\n",
    "                #         # i_trial += 2\n",
    "                        \n",
    "                # # ## shift timer\n",
    "                # # new_avail_time = all_events[i_trial]+reset_time\n",
    "                # if  all_events[i_trial] >= qu_avaialble_time[emissions[i_trial]]:\n",
    "                #     qu_reset[emissions[i_trial]] = True\n",
    "                #     qu_avaialble_time[emissions[i_trial]] = all_events[i_trial]+reset_time\n",
    "                    \n",
    "                # i_trial += 1\n",
    "                # if all_events[i_trial] >= qu_avaialble_time[emissions[i_trial]]:\n",
    "                #     qu_reset[emissions[i_trial]] = False\n",
    "                #     qu_avaialble_time[emissions[i_trial]] = 0\n",
    "                # # print(qu_reset, qu_avaialble_time)\n",
    "\n",
    "    toc = time.time()\n",
    "    print(f\"({i_t}), elapsed time {toc-tic} sec\")\n",
    "\n"
   ]
  },
  {
   "cell_type": "code",
   "execution_count": 38,
   "metadata": {},
   "outputs": [
    {
     "data": {
      "image/png": "[encoded data removed]",
      "text/plain": [
       "<Figure size 400x300 with 1 Axes>"
      ]
     },
     "metadata": {},
     "output_type": "display_data"
    }
   ],
   "source": [
    "plt.figure(figsize=(4,3))\n",
    "for i_reset, reset_time in enumerate(reset_time_list):\n",
    "    plt.plot(total_time_list, (succ_prob[:,i_reset,:]).mean(axis=-1), \".-\",markersize=2, color = f\"C{i_reset}\", label=fr\"reset={reset_time*1e6:.0f} usec\")\n",
    "    # plt.plot(total_time_list, succ_prob[:,i_reset,:], \".\",markersize=2, color = f\"C{i_reset}\")\n",
    "\n",
    "plt.xscale(\"log\")\n",
    "# plt.yscale(\"log\")\n",
    "plt.xlabel(r\"time slot duration [sec]\")\n",
    "plt.ylabel(\"e2e ebit prob\")\n",
    "# plt.ylim([1e1,1e6])\n",
    "plt.legend(frameon=False, handlelength=1)\n",
    "# plt.grid()\n",
    "plt.tight_layout()\n",
    "# plt.savefig(\"figures/rate_vs_delay_w_loss_baseline.pdf\")\n",
    "# plt.savefig(\"figures/rate_vs_delay_w_loss_dense.pdf\")\n",
    "# plt.savefig(\"figures/rate_vs_delay_baseline.pdf\")\n",
    "plt.show()\n"
   ]
  }
 ],
 "metadata": {
  "kernelspec": {
   "display_name": "QR",
   "language": "python",
   "name": "python3"
  },
  "language_info": {
   "codemirror_mode": {
    "name": "ipython",
    "version": 3
   },
   "file_extension": ".py",
   "mimetype": "text/x-python",
   "name": "python",
   "nbconvert_exporter": "python",
   "pygments_lexer": "ipython3",
   "version": "3.10.13"
  },
  "orig_nbformat": 4
 },
 "nbformat": 4,
 "nbformat_minor": 2
}
