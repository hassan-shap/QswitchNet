{
 "cells": [
  {
   "cell_type": "code",
   "execution_count": 1,
   "metadata": {},
   "outputs": [],
   "source": [
    "from utils import poisson_random_process\n",
    "import numpy as np\n",
    "import matplotlib.pyplot as plt\n"
   ]
  },
  {
   "cell_type": "code",
   "execution_count": 42,
   "metadata": {},
   "outputs": [
    {
     "data": {
      "image/png": "[encoded data removed]",
      "text/plain": [
       "<Figure size 500x150 with 1 Axes>"
      ]
     },
     "metadata": {},
     "output_type": "display_data"
    }
   ],
   "source": [
    "gen_rate = 1e6 # Parameter lambda in Hz\n",
    "total_time = 4e-5  # Total time in sec for the process\n",
    "# fdl = 1e-4 # delay line time quantization in sec\n",
    "# tolerance = 1e-6\n",
    "\n",
    "s1 = poisson_random_process(gen_rate, total_time)\n",
    "\n",
    "plt.figure(figsize=(5,1.5))\n",
    "plt.bar(s1*1e6,1,width=2e-1)\n",
    "plt.xlabel(\"arrival time [usec]\")\n",
    "plt.yticks([])\n",
    "plt.tight_layout()\n",
    "plt.savefig(\"figures/gen_poisson.pdf\")"
   ]
  },
  {
   "cell_type": "code",
   "execution_count": null,
   "metadata": {},
   "outputs": [],
   "source": []
  }
 ],
 "metadata": {
  "kernelspec": {
   "display_name": "qswitch",
   "language": "python",
   "name": "python3"
  },
  "language_info": {
   "codemirror_mode": {
    "name": "ipython",
    "version": 3
   },
   "file_extension": ".py",
   "mimetype": "text/x-python",
   "name": "python",
   "nbconvert_exporter": "python",
   "pygments_lexer": "ipython3",
   "version": "3.10.13"
  },
  "orig_nbformat": 4
 },
 "nbformat": 4,
 "nbformat_minor": 2
}
