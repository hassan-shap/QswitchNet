{
 "cells": [
  {
   "cell_type": "code",
   "execution_count": 20,
   "metadata": {},
   "outputs": [],
   "source": [
    "import numpy as np\n",
    "import matplotlib.pyplot as plt\n",
    "\n",
    "def poisson_random_process(lmbda, total_time):\n",
    "    \"\"\"\n",
    "    Generate a Poisson random process.\n",
    "    \n",
    "    Parameters:\n",
    "        lmbda (float): The parameter lambda of the Poisson distribution.\n",
    "        total_time (float): The total time for the process.\n",
    "    \n",
    "    Returns:\n",
    "        numpy.ndarray: An array of timestamps when events occur.\n",
    "    \"\"\"\n",
    "    num_events = np.random.poisson(lmbda * total_time)\n",
    "    event_times = np.cumsum(np.random.exponential(1 / lmbda, num_events))\n",
    "    event_times = event_times[event_times < total_time]\n",
    "    return event_times\n",
    "\n"
   ]
  },
  {
   "cell_type": "code",
   "execution_count": 91,
   "metadata": {},
   "outputs": [],
   "source": [
    "gen_rate = 1e6 # Parameter lambda in Hz\n",
    "total_time = 1e1  # Total time in sec for the process\n",
    "fdl = 1e-4 # delay line time quantization in sec\n",
    "tolerance = 1e-6\n",
    "\n",
    "# s1 = poisson_random_process(gen_rate, total_time)\n",
    "# s2 = poisson_random_process(gen_rate, total_time)\n",
    "# # print(\"Event timestamps:\", event_timestamps)\n",
    "# np.sum(s1==s2)\n"
   ]
  },
  {
   "cell_type": "code",
   "execution_count": 152,
   "metadata": {},
   "outputs": [
    {
     "name": "stdout",
     "output_type": "stream",
     "text": [
      "0.12274959083469722\n",
      "0.12386706948640483\n",
      "0.06477093206951026\n",
      "0.11061285500747384\n",
      "0.07656967840735068\n",
      "0.09584664536741214\n",
      "0.11428571428571428\n",
      "0.09831029185867896\n",
      "0.08433734939759036\n",
      "0.09361069836552749\n"
     ]
    }
   ],
   "source": [
    "gen_rate = 1e6 # Parameter lambda in Hz\n",
    "total_time = 1e1  # Total time in sec for the process\n",
    "fdl = 1e-4 # delay line time quantization in sec\n",
    "tolerance = 1e-6\n",
    "\n",
    "Nrep = 10\n",
    "for _ in range(Nrep):\n",
    "    s1 = poisson_random_process(gen_rate, total_time)\n",
    "    s2 = poisson_random_process(gen_rate, total_time)\n",
    "\n",
    "    num_trials = min(s1.shape[0],s2.shape[0])\n",
    "    # num_trials\n",
    "    all_events = np.concatenate((s1,s2))\n",
    "    events_inds = all_events.argsort()\n",
    "    emissions = np.zeros(events_inds.shape[0])\n",
    "    emissions[np.argwhere(events_inds>s1.shape[0])] = 1\n",
    "    # print(emissions[:40])\n",
    "    # plt.plot(emissions,\".\")\n",
    "\n",
    "    second_tick = np.argwhere(np.abs(np.diff(emissions))>0)[:,0]+1\n",
    "    # print(second_tick[:10])\n",
    "    # # for i in range(1,second_tick.shape[0]):\n",
    "    # num_coincidences = np.sum(np.abs(np.diff(emissions))>0)\n",
    "\n",
    "    coincident_events = []\n",
    "    coincident_inds = []\n",
    "    time_diff = []\n",
    "\n",
    "    i1 = 0\n",
    "    photon1 = emissions[i1]\n",
    "    for _ in range(num_trials):\n",
    "        # if second_tick[i]> second_tick[i-1]+1:\n",
    "        #     # second_tick[i]+1:second_tick[i-1]\n",
    "        #     i1 = second_tick[i-1]+1\n",
    "        #     i2 = second_tick[i]\n",
    "        #     print((i1,i2),emissions[[i1,i2]],all_events[[i1,i2]])\n",
    "        next_event = np.argwhere(emissions[i1+1:]== 1- photon1)\n",
    "        if len(next_event)>0:\n",
    "            i2 = i1+ next_event[0,0] +1 \n",
    "            photon2 = emissions[i2]\n",
    "            # print((i1,i2),emissions[[i1,i2]],all_events[[i1,i2]])\n",
    "            time_diff.append(all_events[i2]-all_events[i1])\n",
    "            coincident_inds.append((i1,i2))\n",
    "            coincident_events.append(emissions[[i1,i2]].tolist())\n",
    "            i1 = i2 + 1\n",
    "            if i1 < len(emissions):\n",
    "                photon1 = emissions[i1]\n",
    "            else:\n",
    "                break\n",
    "        else:\n",
    "            break\n",
    "\n",
    "    print(np.sum( (np.array(time_diff) % fdl)< tolerance)/len(time_diff))"
   ]
  },
  {
   "cell_type": "code",
   "execution_count": 89,
   "metadata": {},
   "outputs": [
    {
     "name": "stdout",
     "output_type": "stream",
     "text": [
      "[0.01795582419489879, 0.007973455803673368, 0.02586563643588935, 0.006622706650107987, 0.006762946742751186, 0.03618681398692761, 0.02378526959157007, 5.772241183898963e-05, 0.022676700654992776, 0.028509085995288563]\n",
      "[(0, 2), (3, 4), (5, 6), (7, 10), (11, 12), (13, 16), (17, 20), (21, 22), (23, 28), (29, 30)]\n",
      "[[0.0, 1.0], [1.0, 0.0], [0.0, 1.0], [1.0, 0.0], [0.0, 1.0], [1.0, 0.0], [1.0, 0.0], [1.0, 0.0], [0.0, 1.0], [1.0, 0.0]]\n"
     ]
    }
   ],
   "source": [
    "print(time_diff[:10])\n",
    "print(coincident_inds[:10])\n",
    "print(coincident_events[:10])\n"
   ]
  },
  {
   "cell_type": "code",
   "execution_count": 80,
   "metadata": {},
   "outputs": [
    {
     "data": {
      "text/plain": [
       "912"
      ]
     },
     "execution_count": 80,
     "metadata": {},
     "output_type": "execute_result"
    }
   ],
   "source": [
    "# gen_rate = 1e6 \n",
    "# Niter = 1e4\n",
    "# # s1 = np.random.poisson(gen_rate, Niter)\n",
    "# # s2 = np.random.poisson(gen_rate, Niter)\n",
    "# # np.argwhere(s1==s2)"
   ]
  }
 ],
 "metadata": {
  "kernelspec": {
   "display_name": "QR",
   "language": "python",
   "name": "python3"
  },
  "language_info": {
   "codemirror_mode": {
    "name": "ipython",
    "version": 3
   },
   "file_extension": ".py",
   "mimetype": "text/x-python",
   "name": "python",
   "nbconvert_exporter": "python",
   "pygments_lexer": "ipython3",
   "version": "3.8.16"
  },
  "orig_nbformat": 4
 },
 "nbformat": 4,
 "nbformat_minor": 2
}
