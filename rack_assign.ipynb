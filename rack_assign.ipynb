{
 "cells": [
  {
   "cell_type": "code",
   "execution_count": 1,
   "metadata": {},
   "outputs": [],
   "source": [
    "from network_utils_hybrid import *\n",
    "import random\n",
    "import numpy as np\n",
    "import time\n",
    "from docplex.mp.model import Model\n",
    "\n"
   ]
  },
  {
   "cell_type": "code",
   "execution_count": 27,
   "metadata": {},
   "outputs": [
    {
     "name": "stdout",
     "output_type": "stream",
     "text": [
      "[[1. 0. 1. 0.]\n",
      " [0. 0. 0. 0.]\n",
      " [0. 1. 0. 1.]\n",
      " [0. 0. 0. 0.]\n",
      " [0. 0. 0. 0.]\n",
      " [0. 0. 0. 0.]]\n",
      "-4.984348942298596\n"
     ]
    }
   ],
   "source": [
    "num_qpus = 4\n",
    "num_racks = 6\n",
    "num_ToR = 2 # number of qpus per rack\n",
    "F_inter = 0.85\n",
    "F_intra = 0.9\n",
    "\n",
    "epr = np.random.randint(0,10,size=(num_qpus,num_qpus))\n",
    "\n",
    "mdl = Model(name='routing')\n",
    "x = mdl.binary_var_matrix(num_qpus, num_racks, name=\"x\")\n",
    "\n",
    "# one-hot vector constraint\n",
    "for i in range(num_qpus):\n",
    "    mdl.add_constraint(mdl.sum(x[i, k] for k in range(num_racks)) == 1, f\"qpu_{i}\")\n",
    "\n",
    "# At most num_ToR qpus per rack\n",
    "for k in range(num_racks):\n",
    "    mdl.add_constraint(mdl.sum(x[i, k] for i in range(num_qpus)) <= num_ToR, f\"rack_{j}\")\n",
    "\n",
    "# intermediate variable for links btw qpu[i] and qpu[j]\n",
    "z = mdl.binary_var_cube(num_qpus, num_qpus, num_racks, name=\"z\")\n",
    "for i in range(num_qpus):\n",
    "    for j in range(i+1, num_qpus):\n",
    "        for k in range(num_racks):\n",
    "            mdl.add_constraint(z[i,j,k] <= x[i,k] + x[j,k])\n",
    "            mdl.add_constraint(z[i,j,k] >= x[i,k] - x[j,k])\n",
    "            mdl.add_constraint(z[i,j,k] >= x[j,k] - x[i,k])\n",
    "            mdl.add_constraint(z[i,j,k] <= 2 - (x[i,k] + x[j,k]))\n",
    "\n",
    "obj = 0\n",
    "for i in range(num_qpus):\n",
    "    for j in range(i+1, num_qpus):\n",
    "        obj += epr[i,j] * np.log(F_inter) * mdl.sum(z[i, j, k] for k in range(num_racks))/2\n",
    "        obj += epr[i,j] * np.log(F_intra) * (1-mdl.sum(z[i, j, k] for k in range(num_racks))/2)\n",
    "\n",
    "mdl.maximize(obj)\n",
    "mdl.solve()\n",
    "# del solution\n",
    "solution = mdl.solve()#log_output=True)\n",
    "\n",
    "# solution_values = mdl.solution.get_values()\n",
    "# print(\"Solution values:\", solution_values)\n",
    "\n",
    "# for i in range(num_qpus):\n",
    "#         for k in range(num_racks):\n",
    "#             print(solution[x[i,k]])\n",
    "x_opt = np.array([[solution[x[i,j]] for i in range(num_qpus)] for j in range(num_racks)])\n",
    "# # y_opt = np.array([solution[y[i]] for i in range(num_paths[\"ir\"]) ])\n",
    "print(x_opt)\n",
    "print(solution[obj])\n",
    "\n"
   ]
  }
 ],
 "metadata": {
  "kernelspec": {
   "display_name": "qswitch",
   "language": "python",
   "name": "python3"
  },
  "language_info": {
   "codemirror_mode": {
    "name": "ipython",
    "version": 3
   },
   "file_extension": ".py",
   "mimetype": "text/x-python",
   "name": "python",
   "nbconvert_exporter": "python",
   "pygments_lexer": "ipython3",
   "version": "3.10.13"
  },
  "orig_nbformat": 4
 },
 "nbformat": 4,
 "nbformat_minor": 2
}
