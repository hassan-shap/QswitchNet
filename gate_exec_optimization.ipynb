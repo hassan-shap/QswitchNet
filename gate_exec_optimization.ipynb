{
 "cells": [
  {
   "cell_type": "code",
   "execution_count": 1,
   "metadata": {},
   "outputs": [],
   "source": [
    "from network_utils_hybrid import *\n",
    "import random\n",
    "import numpy as np\n",
    "import time\n"
   ]
  },
  {
   "cell_type": "code",
   "execution_count": 2,
   "metadata": {},
   "outputs": [],
   "source": [
    "Nrep = 100\n",
    "num_gates_list = np.arange(10,41,10)\n",
    "num_ToR = 4\n",
    "n = 4 # must be even, starts from 4\n",
    "\n",
    "specs = {\n",
    "    \"num_sw_ports\": n,\n",
    "    \"num_ToR\" : num_ToR,\n",
    "    \"qs_per_node\" : 10,\n",
    "    \"bandwidth\" : 2,\n",
    "    \"num_bsm_ir\" : 2,\n",
    "    \"num_bsm_tel\" : 2,\n",
    "    \"num_pd\" : 1, # inactive\n",
    "    \"num_laser\" : 1, # inactive\n",
    "    \"num_bs\" : 1, # inactive\n",
    "    \"num_es\" : 1 # inactive\n",
    "}\n",
    "\n",
    "G, vertex_list = clos_hybrid(specs)\n",
    "edge_switches, node_list, node_qubit_list =  vertex_list\n"
   ]
  },
  {
   "cell_type": "code",
   "execution_count": 3,
   "metadata": {},
   "outputs": [
    {
     "name": "stdout",
     "output_type": "stream",
     "text": [
      "[[[6, 8], [3, 8], [0, 8], [0, 4]], [[2, 8], [1, 8], [1, 7], [2, 1]], [[2, 8], [0, 6]], [[2, 6], [1, 2]], [[1, 3]], [[0, 2]]]\n"
     ]
    }
   ],
   "source": [
    "num_gates = 100\n",
    "query_seq, gate_mul_seq = parallel_circuit_gen(node_list, specs[\"qs_per_node\"], num_gates)\n",
    "switch_seq = network_latency_multiqubit_hybrid(G, vertex_list, query_seq, gate_mul_seq)\n",
    "print(switch_seq)"
   ]
  }
 ],
 "metadata": {
  "kernelspec": {
   "display_name": "qswitch",
   "language": "python",
   "name": "python3"
  },
  "language_info": {
   "codemirror_mode": {
    "name": "ipython",
    "version": 3
   },
   "file_extension": ".py",
   "mimetype": "text/x-python",
   "name": "python",
   "nbconvert_exporter": "python",
   "pygments_lexer": "ipython3",
   "version": "3.10.13"
  },
  "orig_nbformat": 4
 },
 "nbformat": 4,
 "nbformat_minor": 2
}
