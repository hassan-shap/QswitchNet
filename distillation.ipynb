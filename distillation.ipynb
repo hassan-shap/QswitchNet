{
 "cells": [
  {
   "cell_type": "code",
   "execution_count": 5,
   "metadata": {},
   "outputs": [
    {
     "name": "stdout",
     "output_type": "stream",
     "text": [
      "0.9255725190839694 0.8733333333333334\n"
     ]
    }
   ],
   "source": [
    "F1 = 0.95\n",
    "F2 = F1\n",
    "p_succ = 8*F1*F2/9 - 2/9*(F1+F2) +5/9\n",
    "F12 = (10/9*F1*F2 - (F1+F2)/9 + 1/9)/p_succ\n",
    "print(F12, p_succ)"
   ]
  },
  {
   "cell_type": "code",
   "execution_count": 3,
   "metadata": {},
   "outputs": [
    {
     "name": "stdout",
     "output_type": "stream",
     "text": [
      "0.9972375690607734\n"
     ]
    }
   ],
   "source": [
    "F12 = F1*F2/ ( F1*F2 + (1-F1)*(1-F2) )\n",
    "print(F12)"
   ]
  },
  {
   "cell_type": "code",
   "execution_count": 7,
   "metadata": {},
   "outputs": [
    {
     "name": "stdout",
     "output_type": "stream",
     "text": [
      "0.8099999999999998\n"
     ]
    }
   ],
   "source": [
    "# swapping\n",
    "F1 = 0.95\n",
    "F2 = 0.85\n",
    "F = 1/4+ 3/4*(4*F1-1)/3*(4*F2-1)/3\n",
    "print(F)"
   ]
  }
 ],
 "metadata": {
  "kernelspec": {
   "display_name": "qswitch",
   "language": "python",
   "name": "python3"
  },
  "language_info": {
   "codemirror_mode": {
    "name": "ipython",
    "version": 3
   },
   "file_extension": ".py",
   "mimetype": "text/x-python",
   "name": "python",
   "nbconvert_exporter": "python",
   "pygments_lexer": "ipython3",
   "version": "3.10.13"
  },
  "orig_nbformat": 4
 },
 "nbformat": 4,
 "nbformat_minor": 2
}
